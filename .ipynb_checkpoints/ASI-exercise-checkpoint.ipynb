{
 "cells": [
  {
   "cell_type": "code",
   "execution_count": 1,
   "metadata": {},
   "outputs": [],
   "source": [
    "import pandas as pd\n",
    "import numpy as np\n",
    "import seaborn as sns\n",
    "from numpy.linalg import inv\n",
    "from sklearn.model_selection import train_test_split\n",
    "from scipy.stats import multivariate_normal\n",
    "from sklearn.metrics import f1_score, confusion_matrix\n",
    "from sklearn.utils.multiclass import unique_labels\n",
    "import matplotlib.pyplot as plt\n",
    "from imblearn.over_sampling import SMOTE\n",
    "%matplotlib inline\n",
    "\n",
    "import warnings\n",
    "warnings.filterwarnings(\"ignore\")"
   ]
  },
  {
   "cell_type": "markdown",
   "metadata": {},
   "source": [
    "<div class=\"alert alert-info\">\n",
    "1. Download and import the Santander dataset. The labels of the test data are not publicly available, so create your own test set by randomly choosing half of the instances in the original training set.</div>"
   ]
  },
  {
   "cell_type": "code",
   "execution_count": 2,
   "metadata": {},
   "outputs": [],
   "source": [
    "# read the csv input file and convert to Dataframe\n",
    "path = 'santander-customer-transaction-prediction/train.csv'\n",
    "dataDF = pd.read_csv(path)\n",
    "\n",
    "# define name of response variable\n",
    "attrName = dataDF.columns.tolist()[2:]\n",
    "\n",
    "# split the input data into two parts: training set and validation set\n",
    "trainDF, valDF = train_test_split(dataDF, test_size=0.5, random_state=42)"
   ]
  },
  {
   "cell_type": "markdown",
   "metadata": {},
   "source": [
    "<div class=\"alert alert-info\">\n",
    "2. Comment on the distribution of class labels and the dimensionality of the input and how these may affect the analysis. </div>"
   ]
  },
  {
   "cell_type": "markdown",
   "metadata": {},
   "source": [
    "Below is the label distribution figure. We can see that the number of samples belong to class '0' is overwhelming the ones in class '1' (nearly 10 times). This indicates that the given dataset is imbalance and causes an negative effect. When applying models onto this dataset, it bias to predict samples belong to class '0'. I will discuss some pre-processing step to eliviate this problem later."
   ]
  },
  {
   "cell_type": "code",
   "execution_count": 3,
   "metadata": {},
   "outputs": [
    {
     "data": {
      "image/png": "[encoded data removed]",
      "text/plain": [
       "<Figure size 432x288 with 1 Axes>"
      ]
     },
     "metadata": {},
     "output_type": "display_data"
    }
   ],
   "source": [
    "# plot the label distribution\n",
    "sns.set(style=\"darkgrid\")\n",
    "ax = sns.countplot(x='target', data=trainDF)\n",
    "ax.set_xlabel(\"Class\", weight=\"semibold\", color='b', size=12)\n",
    "ax.set_ylabel(\"Count\", weight=\"semibold\", color='b', size=12)\n",
    "ax.set_title(\"Distribution of class labels\", weight=\"semibold\", color='r', size=15)\n",
    "plt.show()"
   ]
  },
  {
   "cell_type": "code",
   "execution_count": 4,
   "metadata": {},
   "outputs": [
    {
     "name": "stdout",
     "output_type": "stream",
     "text": [
      "The number of attributes in the given dataset is 200\n"
     ]
    }
   ],
   "source": [
    "print('The number of attributes in the given dataset is', len(attrName))"
   ]
  },
  {
   "cell_type": "markdown",
   "metadata": {},
   "source": [
    "As we can see, the number of attributes in the given dataset is 200. When applying models in which their math fomulas related to exponential, it is really important to take care the intial coefficients since the function value grow exponentially. However, with a high dimensional dataset, choosing an appropriate is not easy. Applying optimization methods is harder to converge (bad learning rate)."
   ]
  },
  {
   "cell_type": "code",
   "execution_count": 5,
   "metadata": {},
   "outputs": [],
   "source": [
    "# split training set into 2 parts: input variables and target\n",
    "Xtrain_b = trainDF[attrName].values\n",
    "ytrain_b = trainDF.target.values\n",
    "\n",
    "# do the same with validation set\n",
    "Xval = valDF[attrName].values\n",
    "yval = valDF.target.values"
   ]
  },
  {
   "cell_type": "markdown",
   "metadata": {},
   "source": [
    "## 3. Bayesian linear regression."
   ]
  },
  {
   "cell_type": "markdown",
   "metadata": {},
   "source": [
    "<div class=\"alert alert-info\">\n",
    "a. Implement Bayesian linear regression.</div>"
   ]
  },
  {
   "cell_type": "code",
   "execution_count": 6,
   "metadata": {},
   "outputs": [],
   "source": [
    "class BayesianLinearRegression(object):\n",
    "    \n",
    "    \"\"\"Bayesian Linear Regression.\n",
    "\n",
    "    This class implements Bayesian version of linear regression. \n",
    "    \n",
    "    Input with defined prior distribution over parameter, it updates\n",
    "    \n",
    "    the posterior distribution by the given dataset.\"\"\"\n",
    "    \n",
    "    def __init__(self, e_v, p_v):\n",
    "        \n",
    "        \"\"\"Intialization.\n",
    "        \n",
    "        Parameters\n",
    "        ----------\n",
    "        e_v: float, optional\n",
    "        \n",
    "            The variance of the Gaussian noise in linear regression\n",
    "\n",
    "\n",
    "        p_v: {array-like, sparse matrix}, shape (n_features, n_features)\n",
    "        \n",
    "            The covariance of prior, where n_features is the number of features.\n",
    "\n",
    "            \n",
    "        Attributes\n",
    "        ----------\n",
    "\n",
    "        pos_m : array, shape (n_features, )\n",
    "\n",
    "            The mean of posterior.\n",
    "            \n",
    "        pos_v : {array-like, sparse matrix}, shape (n_features, n_features)\n",
    "    \n",
    "            The covariance of posterior.\n",
    "\n",
    "        \"\"\"\n",
    "\n",
    "        self.e_v = e_v\n",
    "        self.p_v = p_v\n",
    "        \n",
    "    def fit(self, X, t):\n",
    "        \n",
    "        \"\"\"Fit the model according to the given training data.\n",
    "\n",
    "\n",
    "        Parameters\n",
    "        ----------\n",
    "        X : {array-like, sparse matrix}, shape (n_samples, n_features)\n",
    "\n",
    "            Training vector, where n_samples is the number of samples and\n",
    "\n",
    "            n_features is the number of features.\n",
    "\n",
    "\n",
    "        t : array-like, shape (n_samples,)\n",
    "\n",
    "            Target vector relative to X.\n",
    "\n",
    "\n",
    "\n",
    "        Returns\n",
    "        -------\n",
    "        \n",
    "        self : object\n",
    "\n",
    "        \"\"\"\n",
    "            \n",
    "        self.pos_v = inv((np.dot(X.T, X)/(self.e_v) + inv(self.p_v)))\n",
    "        self.pos_m = np.dot(self.pos_v, np.dot(X.T, t))/(self.e_v)\n",
    "        \n",
    "        return self\n",
    "\n",
    "    def predict(self, X):\n",
    "        \n",
    "        \"\"\"predict using the Bayesian linear regression model\n",
    "        \n",
    "\n",
    "        Parameters\n",
    "        ----------\n",
    "        X : array-like, shape = [n_samples, n_features]\n",
    "\n",
    "\n",
    "        Returns\n",
    "        -------\n",
    "\n",
    "        ynew : array-like, shape = [n_samples,]\n",
    "\n",
    "            Returns the predicted value of the input sample.\n",
    "\n",
    "        ynew_v : array-like, shape = [n_samples,]\n",
    "\n",
    "            Returns the predicted value's variance of the input sample.\n",
    "        \"\"\"\n",
    "        \n",
    "        ynew = np.dot(X, self.pos_m)\n",
    "        ynew_v = []\n",
    "        \n",
    "        for x in X:\n",
    "            ynew_v.append(self.e_v + np.dot(np.dot(x.T, self.pos_v), x))\n",
    "        \n",
    "        return np.array(ynew), np.array(ynew_v)"
   ]
  },
  {
   "cell_type": "markdown",
   "metadata": {},
   "source": [
    "<div class=\"alert alert-info\">\n",
    "b. Discuss how can you select the (hyper-)parameter for the Gaussian prior.</div>"
   ]
  },
  {
   "cell_type": "markdown",
   "metadata": {},
   "source": [
    "Prior distribution is a convenient way we express our prior knowledge in some statistical inference applications. For example, if the prior assigns zero probability to some value of variable, then the posterior distribution will necessarily also assign zero probability to that value, irrespective of any subsequent observations of data. Although our Gaussian prior assumption $\\mathcal{N}(\\mu,\\,\\sigma^{2})$, I have little idea of what should be the form of this distribution with the given data-set. Therefore, I may then choose prior mean and variance, which is intended to have as little influence on the posterior distribution as possible (non-informative prior). It also means I try to assign the same probability in the parameter domain. With the Gaussian distribution, a non-informative prior can be obtained by taking the limit $\\sigma^2 \\xrightarrow{}\\infty$ and $\\mu$ can be any value."
   ]
  },
  {
   "cell_type": "markdown",
   "metadata": {},
   "source": [
    "<div class=\"alert alert-info\">\n",
    "c. Write code that calculates the N-th order polynomial transformation of the input data.</div>"
   ]
  },
  {
   "cell_type": "code",
   "execution_count": 7,
   "metadata": {},
   "outputs": [],
   "source": [
    "def polynomialTransform(X, n):\n",
    "    \n",
    "    \"\"\"predict using the Bayesian linear regression model\n",
    "        \n",
    "\n",
    "    Parameters\n",
    "    ----------\n",
    "    X : array-like, shape = [n_samples, n_features]\n",
    "        \n",
    "        Input data, where n_samples is the number of samples and\n",
    "        \n",
    "        n_features is the number of features.\n",
    "\n",
    "    \n",
    "    Returns\n",
    "    -------\n",
    "\n",
    "    X_ : array-like, shape = [n_samples, n_features*n]\n",
    "\n",
    "         Returns the N-th order polynomial transformation of the input data.\n",
    "\n",
    "    \"\"\"\n",
    "        \n",
    "    X_ = X\n",
    "    for i in range(2, (n+1)):\n",
    "        X_ = np.column_stack((X_, X**i))\n",
    "    \n",
    "    return X_"
   ]
  },
  {
   "cell_type": "markdown",
   "metadata": {},
   "source": [
    "<div class=\"alert alert-info\">\n",
    "d. Describe any additional pre-processing that you suggest for this data.</div>"
   ]
  },
  {
   "cell_type": "markdown",
   "metadata": {},
   "source": [
    "As I described previously, the given dataset is strongly imbalanced. I tried some experiments with data approach to address this problem. This approach consists of re-sampling the data in order to mitigate the effect caused by class imbalance. The data approach has gained popular acceptance among practitioners as it is more flexible and allows for the use of latest algorithms. The two most common techniques are over-sampling and under-sampling. \n",
    "\n",
    "**Over-sampling** increases the number of minority class members in the training set.The advantage of over-sampling is that no information from the original training set islost, as all observations from the minority and majority classes are kept.  On the otherhand, it is prone to over-fitting\n",
    "\n",
    "**Under-sampling**, on contrary to over-sampling, aims to reduce the number of majoritysamples to balance the class distribution.  Since it is removing observations from theoriginal data set, it might discard useful information.\n",
    "\n",
    "The `imbalanced-learn` toolbox that has methods like `RandomUnderSampler` to performrandom under-sampling or `ADASYN`, `SMOTE` to perform over-sampling. In this exercise, I choosed `SMOTE` technique to mitigate the effect caused by class imbalance."
   ]
  },
  {
   "cell_type": "code",
   "execution_count": 8,
   "metadata": {},
   "outputs": [],
   "source": [
    "# up-sampling the original datatset\n",
    "SmoteUp = SMOTE(k_neighbors=5)\n",
    "features_resampling, target_resampling = SmoteUp.fit_sample(Xtrain_b, ytrain_b)\n",
    "Xtrain = features_resampling\n",
    "ytrain = target_resampling"
   ]
  },
  {
   "cell_type": "markdown",
   "metadata": {},
   "source": [
    "<div class=\"alert alert-info\">\n",
    "e. Treat class labels as continuous and apply regression to the training data. Also, calculate the posterior variance of the weights.</div>"
   ]
  },
  {
   "cell_type": "code",
   "execution_count": 9,
   "metadata": {},
   "outputs": [],
   "source": [
    "# prior distribution and noise setting\n",
    "prior_variance = 1e20*np.eye(len(attrName))\n",
    "error_variance = 0.01\n",
    "\n",
    "# apply Bayesian linear regression on training data\n",
    "model = BayesianLinearRegression(error_variance, prior_variance)\n",
    "model.fit(Xtrain, ytrain)\n",
    "\n",
    "pred, predVariance = model.predict(Xval)"
   ]
  },
  {
   "cell_type": "markdown",
   "metadata": {},
   "source": [
    "<div class=\"alert alert-info\">\n",
    "f. Suggest a way to discretize predictions and display the confusion matrix on the test data and report accuracy.</div>"
   ]
  },
  {
   "cell_type": "markdown",
   "metadata": {},
   "source": [
    "The solution find by Linear Regression model is a hyper-plane, in which it optimizesthe least square error around the two value 0 and 1.  Therefore, we can infer the averagevalue is 0.5 as the decision boundary:  samples whose predicted value are higher than 0.5 will belong to the class ’1’ and vice versa."
   ]
  },
  {
   "cell_type": "code",
   "execution_count": 10,
   "metadata": {},
   "outputs": [],
   "source": [
    "predLabel = [1 if p>0.5 else 0 for p in pred]"
   ]
  },
  {
   "cell_type": "markdown",
   "metadata": {},
   "source": [
    "<div class=\"alert alert-info\">\n",
    "g. Discuss the performance, compare it against a classifier that outputs random class labels.</div>"
   ]
  },
  {
   "cell_type": "code",
   "execution_count": 11,
   "metadata": {},
   "outputs": [],
   "source": [
    "def plot_confusion_matrix(y_true, y_pred, cmap=plt.cm.Blues):\n",
    "\n",
    "    \"\"\"Plot the confusion matrix.\n",
    "        \n",
    "\n",
    "    Parameters\n",
    "    ----------\n",
    "    ytrue : array-like, shape = [n_samples, ]\n",
    "        \n",
    "        The true value , where n_samples is the number of samples.\n",
    "\n",
    "    ypred : array-like, shape = [n_samples, ]\n",
    "        \n",
    "        The predicted value\n",
    "\n",
    "    \"\"\"\n",
    "    # Compute confusion matrix\n",
    "    cm = confusion_matrix(y_true, y_pred)\n",
    "    cm_normalize = cm.astype('float') / cm.sum(axis=1)[:, np.newaxis]\n",
    "    \n",
    "    # Only use the labels that appear in the data\n",
    "    classes = unique_labels(y_true, y_pred)\n",
    "\n",
    "    fig, ax = plt.subplots(1,2, figsize=(10, 5))\n",
    "    ax[0].imshow(cm, interpolation='nearest', cmap=cmap)\n",
    "    ax[1].imshow(cm_normalize, interpolation='nearest', cmap=cmap)\n",
    "    \n",
    "    # Show all ticks\n",
    "    ax[0].set_xlabel(\"Predicted label\", weight=\"semibold\", color='b', size=15)\n",
    "    ax[0].set_ylabel(\"True label\", weight=\"semibold\", color='b', size=15)\n",
    "    ax[0].set_title(\"Confusion matrix, without normalization\", weight=\"semibold\", color='r', size=15)\n",
    "    ax[0].set_xticks(classes)\n",
    "    ax[0].set_yticks(classes)\n",
    "    \n",
    "    ax[1].set_xlabel(\"Predicted label\", weight=\"semibold\", color='b', size=15)\n",
    "    ax[1].set_ylabel(\"True label\", weight=\"semibold\", color='b', size=15)\n",
    "    ax[1].set_title(\"Confusion matrix, with normalization\", weight=\"semibold\", color='r', size=15)\n",
    "    ax[1].set_xticks(classes)\n",
    "    ax[1].set_yticks(classes)\n",
    "\n",
    "    # Loop over data dimensions and create text annotations.\n",
    "    thresh = cm.max() / 2.\n",
    "    for i in range(cm.shape[0]):\n",
    "        for j in range(cm.shape[1]):\n",
    "            ax[0].text(j, i, format(cm[i, j], 'd'), ha=\"center\", va=\"center\", color=\"r\", fontsize=30, weight=\"semibold\")\n",
    "            ax[1].text(j, i, format(cm_normalize[i, j], '.2f'), ha=\"center\", va=\"center\", color=\"r\", fontsize=30, weight=\"semibold\")\n",
    "\n",
    "    fig.tight_layout()"
   ]
  },
  {
   "cell_type": "code",
   "execution_count": 12,
   "metadata": {},
   "outputs": [
    {
     "data": {
      "image/png": "[encoded data removed]",
      "text/plain": [
       "<Figure size 720x360 with 2 Axes>"
      ]
     },
     "metadata": {},
     "output_type": "display_data"
    }
   ],
   "source": [
    "# Plot confusion matrix\n",
    "plot_confusion_matrix(yval, predLabel)\n",
    "plt.show()"
   ]
  },
  {
   "cell_type": "code",
   "execution_count": 13,
   "metadata": {},
   "outputs": [
    {
     "name": "stdout",
     "output_type": "stream",
     "text": [
      "F1 score on the validation set is 0.6426222186946253\n"
     ]
    }
   ],
   "source": [
    "print('F1 score on the validation set is', f1_score(predLabel, yval, average='macro'))"
   ]
  },
  {
   "cell_type": "code",
   "execution_count": 14,
   "metadata": {},
   "outputs": [
    {
     "name": "stdout",
     "output_type": "stream",
     "text": [
      "F1 score on the validation set with random prediction is 0.4053229205582337\n"
     ]
    }
   ],
   "source": [
    "rdnPredLabel = np.random.randint(2, size=len(yval))\n",
    "print('F1 score on the validation set with random prediction is', f1_score(rdnPredLabel, yval, average='macro'))"
   ]
  },
  {
   "cell_type": "markdown",
   "metadata": {},
   "source": [
    "If we randomly predict the class for samples in validation set, the F1 accuracy is much lower (0.41),this illustrates that Linear Regression can be applied on the given dataset."
   ]
  },
  {
   "cell_type": "markdown",
   "metadata": {},
   "source": [
    "Below is the estimated parameters along with variance"
   ]
  },
  {
   "cell_type": "code",
   "execution_count": 15,
   "metadata": {},
   "outputs": [
    {
     "data": {
      "text/plain": [
       "array([ 9.72304615e-03,  6.55488389e-03,  1.09829205e-02,  2.82979677e-03,\n",
       "        3.91626908e-03,  2.48054406e-03,  5.01924191e-02, -5.86342850e-04,\n",
       "        3.35527683e-03, -1.83600061e-02,  4.25540617e-04,  2.24457896e-03,\n",
       "       -1.78800244e-01, -6.17065512e-03, -6.04405310e-04,  2.29764670e-02,\n",
       "       -3.60227882e-04,  4.78509743e-05,  3.03204207e-03,  8.58615152e-04,\n",
       "       -1.73338881e-03, -4.13429808e-03,  1.16522922e-02, -2.18470889e-02,\n",
       "        4.67926964e-03,  4.06626913e-02,  5.12845247e-03, -1.17170682e-03,\n",
       "       -1.45556416e-02,  4.77698795e-04, -2.86191292e-04, -8.08727940e-03,\n",
       "        7.56237938e-03, -5.51692917e-03, -5.29729628e-02,  3.83922797e-03,\n",
       "       -8.60248484e-03,  2.39107159e-03,  3.02903574e-05, -5.15877800e-04,\n",
       "        3.60998012e-03, -7.73303143e-04, -6.66467956e-03, -2.99338992e-02,\n",
       "       -4.43339909e-03, -5.10590565e-04,  3.00438830e-04,  3.95861713e-04,\n",
       "        1.40443182e-03,  2.00329696e-03, -1.18513046e-02,  1.82207839e-03,\n",
       "        2.95421920e-03,  4.70044652e-02, -1.33516782e-03,  1.70642662e-03,\n",
       "       -5.13832356e-03, -6.23678260e-03, -2.82108213e-03, -9.08009473e-03,\n",
       "        1.84261460e-03,  7.68532261e-04,  5.22369323e-03, -1.59625925e-03,\n",
       "       -4.84145574e-03,  1.85930792e-03,  8.88978012e-03,  3.11879127e-03,\n",
       "        1.15998574e+00,  9.90284229e-04,  1.11961351e-03,  6.89287217e-02,\n",
       "       -2.68701893e-03, -3.27120911e-04,  6.49193372e-04, -3.65278990e-03,\n",
       "       -3.95843791e-03, -2.78921382e-03,  1.28670182e-02,  3.58732968e-03,\n",
       "       -3.52863734e-03, -1.92794731e-02,  1.54532668e-03, -1.34227479e-03,\n",
       "        1.45516461e-03, -3.47206413e-03, -2.84866645e-03, -3.61732417e-03,\n",
       "       -2.88675900e-03,  5.12974270e-03,  1.17523691e-03,  1.35412080e-01,\n",
       "       -5.45907301e-03, -3.32991865e-02,  9.49901177e-03,  3.53083043e-02,\n",
       "        3.32400953e-05,  6.24527668e-04, -2.71344666e-03,  1.76178778e-02,\n",
       "        3.70622629e-04, -7.57146164e-04, -1.17138039e-03, -9.37417110e-03,\n",
       "       -9.55598057e-03,  1.66951091e-02,  9.38067488e-03, -3.23464451e-03,\n",
       "       -1.30403482e-01, -5.88041657e-03,  8.59707730e-03,  1.55688896e-02,\n",
       "        8.94728545e-03, -1.47064527e-03, -1.65205675e-02, -1.05048963e-02,\n",
       "       -8.91645447e-03,  2.55754165e-04,  2.78936052e-03,  3.25200411e-03,\n",
       "       -4.92062044e-04, -1.26263693e-02, -4.92589116e-03, -3.12016896e-03,\n",
       "        2.22792944e-03,  3.77179255e-02,  6.30405176e-03, -6.62635635e-03,\n",
       "        4.53986044e-03, -2.19885904e-03,  2.55900933e-02, -3.86480552e-02,\n",
       "       -1.17971806e-02,  8.70663924e-02,  1.95976685e-03,  1.78357983e-03,\n",
       "       -6.64316869e-05,  1.78170884e-03,  2.45949340e-03, -5.21036177e-03,\n",
       "        2.19540987e-03, -2.60797760e-03, -1.86434484e-03, -2.91911292e-03,\n",
       "        1.32926636e-02,  3.39355814e-03, -1.41687358e-02,  3.03642543e-03,\n",
       "       -1.22314677e-01, -2.46888336e-03, -7.42122027e-03,  3.61201525e-03,\n",
       "       -2.24553129e-03, -1.60013396e-03, -4.68741204e-03,  3.24487825e-03,\n",
       "       -1.38640147e-02,  3.38446799e-03,  1.90742725e-04,  2.07754727e-03,\n",
       "       -4.29858395e-04,  5.86014097e-03,  1.03375313e-02,  4.69357539e-03,\n",
       "        3.75406716e-03, -6.27321203e-03, -9.76995489e-02,  2.18074168e-03,\n",
       "        1.31921274e-03, -8.02813922e-02,  6.45115108e-03,  2.21850395e-03,\n",
       "       -2.21880582e-03,  4.36342995e-03, -4.63615978e-03,  4.80264468e-03,\n",
       "        5.34335752e-04, -8.54659427e-03, -1.41314903e-03,  8.97655654e-03,\n",
       "        3.25509106e-03,  6.19684790e-03, -2.60582404e-04, -6.10000632e-04,\n",
       "        2.88673878e-03,  2.67840793e-04, -4.07150128e-03,  4.74666154e-04,\n",
       "       -5.10762280e-03,  1.51741803e-03,  7.40490379e-03,  8.76453685e-03,\n",
       "       -1.75612276e-02, -2.75459516e-03, -4.06419183e-03,  7.63603763e-03,\n",
       "        2.53752457e-03, -2.39161350e-02, -9.70354058e-03,  1.50745375e-03])"
      ]
     },
     "execution_count": 15,
     "metadata": {},
     "output_type": "execute_result"
    }
   ],
   "source": [
    "# mean of the estimated parameters\n",
    "model.pos_m"
   ]
  },
  {
   "cell_type": "code",
   "execution_count": 16,
   "metadata": {},
   "outputs": [
    {
     "data": {
      "text/plain": [
       "array([[ 6.69623718e-09, -4.18515075e-11, -4.20032082e-11, ...,\n",
       "         2.22434974e-10, -1.21443136e-11, -1.70161892e-11],\n",
       "       [-4.18515075e-11,  3.83435696e-09, -5.57706915e-11, ...,\n",
       "         1.64665930e-10,  9.85214104e-11, -9.85953811e-12],\n",
       "       [-4.20032082e-11, -5.57706915e-11,  8.85250454e-09, ...,\n",
       "         8.82946763e-11,  9.26570904e-11, -8.10646816e-12],\n",
       "       ...,\n",
       "       [ 2.22434974e-10,  1.64665930e-10,  8.82946763e-11, ...,\n",
       "         7.67627984e-08, -8.61980544e-11, -7.30987363e-11],\n",
       "       [-1.21443136e-11,  9.85214104e-11,  9.26570904e-11, ...,\n",
       "        -8.61980544e-11,  6.82248488e-09,  9.51142683e-12],\n",
       "       [-1.70161892e-11, -9.85953811e-12, -8.10646816e-12, ...,\n",
       "        -7.30987363e-11,  9.51142683e-12,  5.75320150e-10]])"
      ]
     },
     "execution_count": 16,
     "metadata": {},
     "output_type": "execute_result"
    }
   ],
   "source": [
    "# variance of the estimated parameters\n",
    "model.pos_v"
   ]
  },
  {
   "cell_type": "markdown",
   "metadata": {},
   "source": [
    "## 4. Logistic Regression"
   ]
  },
  {
   "cell_type": "markdown",
   "metadata": {},
   "source": [
    "<div class=\"alert alert-info\">\n",
    "Implement a logistic regression classifier that optimizes for the Maximum a Posteriori (MAP) estimate; assume a Gaussian prior on the parameters.</div>"
   ]
  },
  {
   "cell_type": "markdown",
   "metadata": {},
   "source": [
    "<div class=\"alert alert-info\">\n",
    "a. Write a function that calculates the gradient of the joint likelihood.</div> "
   ]
  },
  {
   "cell_type": "markdown",
   "metadata": {},
   "source": [
    "#### COMMENT: \n",
    "For the question, I wrote two functions that compute the gradient and Hessian matrix for the log join likelihood. The reason is since we implement two optimization methods for the given problem: one using the gradient and other using the Hessian matrix."
   ]
  },
  {
   "cell_type": "code",
   "execution_count": 17,
   "metadata": {},
   "outputs": [],
   "source": [
    "def logJoinLikelihood_grad(X, t, w, p_m, p_v):\n",
    "    \n",
    "    \"\"\"Computes the gradient of the log join likelihood.\n",
    "\n",
    "\n",
    "    Parameters\n",
    "    ----------\n",
    "\n",
    "    X : {array-like, sparse matrix}, shape (n_samples, n_features)\n",
    "\n",
    "        Training data, where n_samples is the number of samples and\n",
    "\n",
    "        n_features is the number of features.\n",
    "\n",
    "\n",
    "    t : ndarray, shape (n_samples,)\n",
    "\n",
    "        Array of labels.\n",
    "\n",
    "    w : ndarray, shape (n_features,)\n",
    "\n",
    "        Coefficient vector.\n",
    "\n",
    "\n",
    "    p_m: array-like, shape (n_features, )\n",
    "        \n",
    "        The mean of prior.\n",
    "\n",
    "\n",
    "    p_v: {array-like, sparse matrix}, shape (n_features, n_features)\n",
    "        \n",
    "        The covariance of prior.\n",
    "\n",
    "\n",
    "    Returns\n",
    "    -------\n",
    "\n",
    "    grad : ndarray, shape (n_features,)\n",
    "\n",
    "        Log join likelihood gradient.\n",
    "\n",
    "\n",
    "    Reference\n",
    "    ---------\n",
    "\n",
    "    \"\"\"\n",
    "        \n",
    "    p = 1/(1 + np.exp(-X.dot(w)))\n",
    "    grad = (X.T.dot(t-p) + inv(p_v).dot(w-p_m))\n",
    "\n",
    "    return grad"
   ]
  },
  {
   "cell_type": "code",
   "execution_count": 18,
   "metadata": {},
   "outputs": [],
   "source": [
    "def logJoinLikelihood_hess(X, t, w, p_m, p_v):\n",
    "        \n",
    "    \"\"\"Computes the Hessian of the log join likelihood.\n",
    "\n",
    "\n",
    "    Parameters\n",
    "    ----------\n",
    "\n",
    "    X : {array-like, sparse matrix}, shape (n_samples, n_features)\n",
    "\n",
    "        Training data, where n_samples is the number of samples and\n",
    "\n",
    "        n_features is the number of features.\n",
    "\n",
    "\n",
    "    t : ndarray, shape (n_samples,)\n",
    "\n",
    "        Array of labels.\n",
    "\n",
    "    w : ndarray, shape (n_features,)\n",
    "\n",
    "        Coefficient vector.\n",
    "\n",
    "\n",
    "    p_m : array-like, shape (n_features, )\n",
    "        \n",
    "        The mean of prior.\n",
    "\n",
    "\n",
    "    p_v : {array-like, sparse matrix}, shape (n_features, n_features)\n",
    "        \n",
    "        The covariance of prior.\n",
    "\n",
    "\n",
    "\n",
    "    Returns\n",
    "    -------\n",
    "\n",
    "    hess : {array-like, sparse matrix}, shape (n_features, n_features)\n",
    "\n",
    "        The Hessian matrix\n",
    "\n",
    "\n",
    "    Reference\n",
    "    ---------\n",
    "      \n",
    "    Bishop, C. M. (2006). Pattern recognition and machine learning.\n",
    "\n",
    "    Springer. (Chapter 4.5.1)\n",
    "    \n",
    "    \"\"\"\n",
    "\n",
    "    p = 1/(1 + np.exp(-X.dot(w)))\n",
    "    hess = ((X.T*(p*(1-p))).dot(X) + inv(p_v))\n",
    "\n",
    "    return hess"
   ]
  },
  {
   "cell_type": "markdown",
   "metadata": {},
   "source": [
    "<div class=\"alert alert-info\">\n",
    "b. Write a simple gradient descend algorithm that uses the gradients calculated by the function of previous question to converge to the MAP estimate.</div> "
   ]
  },
  {
   "cell_type": "markdown",
   "metadata": {},
   "source": [
    "#### COMMENT: \n",
    "For the question, I wrote three below functions. The first is a helper function to compute the value of log join likelihood with  specified coefficients. The second is to implement gradient descent method to find the coefficient maximizing the log join likelihood. The last is Newton-Raphson version of given optimization problem."
   ]
  },
  {
   "cell_type": "code",
   "execution_count": 19,
   "metadata": {},
   "outputs": [],
   "source": [
    "def logJoinLikelihood(X, t, w, p_m, p_v):\n",
    "        \n",
    "    \"\"\"Computes the value of the log join likelihood fucntion.\n",
    "\n",
    "\n",
    "    Parameters\n",
    "    ----------\n",
    "\n",
    "    X : {array-like, sparse matrix}, shape (n_samples, n_features)\n",
    "\n",
    "        Training data, where n_samples is the number of samples and\n",
    "\n",
    "        n_features is the number of features.\n",
    "\n",
    "\n",
    "    t : ndarray, shape (n_samples,)\n",
    "\n",
    "        Array of labels.\n",
    "\n",
    "    w : ndarray, shape (n_features,)\n",
    "\n",
    "        Coefficient vector.\n",
    "\n",
    "\n",
    "    p_m: array-like, shape (n_features, )\n",
    "        \n",
    "        The mean of prior.\n",
    "\n",
    "\n",
    "    p_v: {array-like, sparse matrix}, shape (n_features, n_features)\n",
    "        \n",
    "        The covariance of prior.\n",
    "\n",
    "\n",
    "    Returns\n",
    "    -------\n",
    "\n",
    "    logJoinLikelihood : float, optional\n",
    "\n",
    "        The value of the log join likelihood fucntion.\n",
    "\n",
    "\n",
    "    Reference\n",
    "    ---------\n",
    "\n",
    "    Bishop, C. M. (2006). Pattern recognition and machine learning.\n",
    "\n",
    "    Springer. (Chapter 4.5.1)\n",
    "    \n",
    "    \"\"\"\n",
    "\n",
    "    p = 1/(1+np.exp(-X.dot(w)))\n",
    "    loglikelihood = np.sum((t * np.log(p) + (1 - t) * np.log(1 - p)))\n",
    "    logPrior = np.log(multivariate_normal.pdf(w, p_m, p_v))\n",
    "\n",
    "    logJoinLikelihood = loglikelihood + logPrior\n",
    "    \n",
    "    return logJoinLikelihood"
   ]
  },
  {
   "cell_type": "code",
   "execution_count": 20,
   "metadata": {},
   "outputs": [],
   "source": [
    "def GradientDescent(X, t, w, p_m, p_v, eta, tol, max_iter):\n",
    "      \n",
    "    \"\"\"Implement gradient descent method to find optimal point for the maximize \n",
    "    \n",
    "    log join likelihood. This method is extended by using backtracking line search\n",
    "    \n",
    "    version to make sure each step will improve objective function.\n",
    "\n",
    "\n",
    "    Parameters\n",
    "    ----------\n",
    "\n",
    "    X : {array-like, sparse matrix}, shape (n_samples, n_features)\n",
    "\n",
    "        Training data, where n_samples is the number of samples and\n",
    "\n",
    "        n_features is the number of features.\n",
    "\n",
    "\n",
    "    t : ndarray, shape (n_samples,)\n",
    "\n",
    "        Array of labels.\n",
    "\n",
    "\n",
    "    w : ndarray, shape (n_features,)\n",
    "\n",
    "        Coefficient vector.\n",
    "\n",
    "\n",
    "    p_m: array-like, shape (n_features, )\n",
    "        \n",
    "        The mean of prior.\n",
    "\n",
    "\n",
    "    p_v: {array-like, sparse matrix}, shape (n_features, n_features)\n",
    "        \n",
    "        The covariance of prior.\n",
    "\n",
    "\n",
    "    eta: float, optional\n",
    "        \n",
    "        The learning rate\n",
    "\n",
    "\n",
    "    tol : float, optional\n",
    "        \n",
    "        Tolerance for stopping criteria.\n",
    "\n",
    "\n",
    "    max_iter: int, optional\n",
    "        \n",
    "        Maximum number of iterations taken for the solvers to converge.\n",
    "\n",
    "\n",
    "\n",
    "    Returns\n",
    "\n",
    "    -------\n",
    "\n",
    "    w_opt: ndarray, shape (n_features,)\n",
    "\n",
    "        The optimal coefficient vector.\n",
    "        \n",
    "    losses: ndarray, optimal\n",
    "    \n",
    "        Values of the objective function, saving for each iteration.\n",
    "\n",
    "    \n",
    "    Reference\n",
    "    ---------\n",
    "\n",
    "    Stephen Boyd and Lieven Vandenberghe (2004). Convex Optimization.\n",
    "\n",
    "    Cambridge. (Chapter 9.3)\n",
    "    \n",
    "    \"\"\"\n",
    "    \n",
    "    # hyper-parameters setting\n",
    "    alpha = 0.5\n",
    "    beta = 0.5\n",
    "    losses = []\n",
    "    w_opt = 0\n",
    "\n",
    "    for i in range(max_iter):\n",
    "            \n",
    "        # using backtracking line search to find the next step length.\n",
    "        eta_p = eta\n",
    "        grad = logJoinLikelihood_grad(X, t, w, p_m, p_v)\n",
    "        loss = logJoinLikelihood(X, t, w, p_m, p_v)\n",
    "        while (logJoinLikelihood(X, t, (w + eta_p * grad), p_m, p_v) < loss + alpha * eta_p * (grad**2).sum()):\n",
    "            eta_p *= beta\n",
    "\n",
    "        # update the coefficient for next step \n",
    "        w_new = w + eta_p*grad\n",
    "            \n",
    "        # check convergence\n",
    "        loss_new = logJoinLikelihood(X, t, w_new, p_m, p_v)\n",
    "        if (abs(loss_new - loss) < tol):\n",
    "            break\n",
    "        else:\n",
    "            losses.append(loss_new)\n",
    "            loss, w = loss_new, w_new\n",
    "                \n",
    "    w_opt = w_new\n",
    "    return w_opt, np.array(losses)"
   ]
  },
  {
   "cell_type": "code",
   "execution_count": 21,
   "metadata": {},
   "outputs": [],
   "source": [
    "def NewtonRaphson(X, t, w, p_m, p_v, eta, tol, max_iter):\n",
    "    \n",
    "\n",
    "    \"\"\"Implement gradient descent method to to find optimal point\n",
    "    \n",
    "    for the maximize log join likelihood.\n",
    "\n",
    "\n",
    "    Parameters\n",
    "    ----------\n",
    "\n",
    "    X : {array-like, sparse matrix}, shape (n_samples, n_features)\n",
    "\n",
    "        Training data, where n_samples is the number of samples and\n",
    "\n",
    "        n_features is the number of features.\n",
    "\n",
    "\n",
    "    t : ndarray, shape (n_samples,)\n",
    "\n",
    "        Array of labels.\n",
    "\n",
    "\n",
    "    w : ndarray, shape (n_features,)\n",
    "\n",
    "        Coefficient vector.\n",
    "\n",
    "\n",
    "    p_m: array-like, shape (n_features, )\n",
    "        \n",
    "        The mean of prior.\n",
    "\n",
    "\n",
    "    p_v: {array-like, sparse matrix}, shape (n_features, n_features)\n",
    "        \n",
    "        The covariance of prior.\n",
    "\n",
    "\n",
    "    eta: float, optional\n",
    "        \n",
    "        The learning rate\n",
    "\n",
    "\n",
    "    tol : float, optional\n",
    "        \n",
    "        Tolerance for stopping criteria.\n",
    "\n",
    "\n",
    "    max_iter: int, optional\n",
    "        \n",
    "        Maximum number of iterations taken for the solvers to converge.\n",
    "\n",
    "\n",
    "\n",
    "    Returns\n",
    "\n",
    "    -------\n",
    "\n",
    "    w_opt: ndarray, shape (n_features,)\n",
    "\n",
    "        The optimal coefficient vector.\n",
    "        \n",
    "    losses: ndarray, optional\n",
    "    \n",
    "        Values of the objective function, saving for each iteration.\n",
    "        \n",
    "    Reference\n",
    "    ---------\n",
    "\n",
    "    Stephen Boyd and Lieven Vandenberghe (2004). Convex Optimization.\n",
    "\n",
    "    Cambridge. (Chapter 9.5)\n",
    "\n",
    "    \"\"\"\n",
    "\n",
    "    # hyper-parameters setting (Note: 'loss' is set to large value to avoid first time stop)\n",
    "    loss = 1e5\n",
    "    losses = []\n",
    "    w_opt = 0\n",
    "    \n",
    "    for i in range(max_iter):\n",
    "             \n",
    "        # find the next step length.\n",
    "        grad = logJoinLikelihood_grad(X, t, w, p_m, p_v)\n",
    "        hess = logJoinLikelihood_hess(X, t, w, p_m, p_v)\n",
    "            \n",
    "        # update the coefficient for next step \n",
    "        w_new = w + eta * inv(hess).dot(grad)\n",
    "        \n",
    "        # check convergence\n",
    "        loss_new = logJoinLikelihood(X, t, w_new, p_m, p_v)\n",
    "        if (abs(loss_new - loss) < tol):\n",
    "            break\n",
    "        else:\n",
    "            losses.append(loss_new)\n",
    "            loss, w = loss_new, w_new\n",
    "            \n",
    "        w_opt = w_new\n",
    "    \n",
    "    return w_opt, losses"
   ]
  },
  {
   "cell_type": "markdown",
   "metadata": {},
   "source": [
    "<div class=\"alert alert-info\">\n",
    "c. Comment on the convexity of the problem; do you need multiple restarts in order to obtain a solution sufficiently close to the global optimum?</div> "
   ]
  },
  {
   "cell_type": "markdown",
   "metadata": {},
   "source": [
    "Let X = \\{$x_1$, . . . , $x_n$\\}, $x_i \\in R^d$ be a set of examples. Let y = \\{$y_1$, . . . , $y_n$\\}, $y_i \\in \\{0, 1\\}$, be a corresponding set of labels. Define $p = P(y=1 \\mid x, w) = \\frac{1}{1 + exp^{(-wx)}}$ then $P(y=0 \\mid x, w) = 1-p = \\frac{1}{1 + exp^{(wx)}}$\n",
    "    \n",
    "We know that the posterior function is updated by : $ P(w \\mid Data) \\propto P(Data \\mid w)P(w)$, where $p(w) \\sim N(w \\mid m_0, S_0)$ Bayesian Logistic Regression learns parameters $w$ so as to maximize posterior (log posterior).\n",
    "    \\begin{equation}\n",
    "    \\argmax_w log\\Bigg[\\sum_{i=1}^{n} y_i*p_i + (1-y_i)*(1-p_i)\\Bigg] - \\frac{1}{2}(w - m_0)^TS_0^{-1}(w - m_0)\n",
    "    \\end{equation}\n",
    "    \n",
    "Obviously, the log prior function $- \\frac{1}{2}(w - m_0)^TS_0^{-1}(w - m_0)$ is concave. To show that the log likelihood function is concave, we consider the partial derivatives:\n",
    "    \\begin{equation*}\n",
    "    \\frac{\\partial P(w \\mid X, y)}{\\partial w_j} =  \\sum_{i=1}^{n} x_{ij}*(y_i - p_i)\n",
    "    \\end{equation*}\n",
    "    \\begin{equation*}\n",
    "    \\frac{\\partial^2 P(w \\mid X, y)}{\\partial w_j \\partial w_k} =  - \\sum_{i=1}^{n} x_{ij}*x_{ik}*p_i*(1 - p_i)\n",
    "    \\end{equation*}\n",
    "    \n",
    "To show that the objective is concave, we first show that the Hessian (the matrix of second derivatives) is negative semi-definite (NSD). A matrix, M, is NSD iff $a^TMa \\leq 0$ for all a. \tLet's $\\bigtriangledown^2$ be the Hessian for our objective. Define $P_i = p_i*(1-p_i)$ and $p_{ij} = x_{ij}*\\sqrt{P_i}$\n",
    "\n",
    "   \\begin{equation*}\n",
    "    \\begin{split}\n",
    "    a^T\\bigtriangledown^2a & =  - \\sum_{i=1}^{n} \\sum_{j=1}^{d} \\sum_{k=1}^{d}a_j*a_k*x_{ij}*x_{ik}*P_i \\\\\n",
    "                            & = - \\sum_{i=1}^{n} a^T*p_i*p_i^T*a \\leq 0\n",
    "    \\end{split}\n",
    "    \\end{equation*}\n",
    "    \n",
    "Note that $a^T*p_i*p_i^T*a = (a^T*p_i)^2  \\geq 0$. Hence, the Hessian is NSD. Along with concave log prior $- \\frac{1}{2}(w - m_0)^TS_0^{-1}(w - m_0)$ hence the objective is concave. Therefore,  there is only one local maximum and gradient descent will give the global maximum if choosing an appropriate learning rate. Moreover, we do not need multiple restarts in order to obtain a solution sufficiently close to the global optimum."
   ]
  },
  {
   "cell_type": "markdown",
   "metadata": {},
   "source": [
    "<div class=\"alert alert-info\">\n",
    "d. Report the confusion matrix and classification accuracy on the test data. Discuss logistic regression performance with respect to the performance of  Bayesian linear regression</div>  "
   ]
  },
  {
   "cell_type": "markdown",
   "metadata": {},
   "source": [
    "<div class=\"alert alert-info\">\n",
    "Implement a package to solve given problem by Bayesian logistic regression using above helper functions</div> "
   ]
  },
  {
   "cell_type": "code",
   "execution_count": 22,
   "metadata": {},
   "outputs": [],
   "source": [
    "class BayesianLogistic(object):\n",
    "    \n",
    "    \n",
    "    \"\"\"Bayesian Logistic Regression classifier.\n",
    "\n",
    "    This class implements Bayesian version of logistic regression. \n",
    "    \n",
    "    Input with defined prior distribution over parameter, it updates\n",
    "    \n",
    "    the posterior distribution by the given dataset. Moreover, the posterior\n",
    "    \n",
    "    is updated by using two methods: point estimate (MAP) and Laplace approximation. \n",
    "    \n",
    "    The former is optimized by gradient descent or Newton-Raphson techiniques.\"\"\"\n",
    "\n",
    "    \n",
    "    def __init__(self, p_m, p_v, solver='newton', eta=1e-3, tol=1e-5, max_iter=100):\n",
    "        \n",
    "        \"\"\"Intialization.\n",
    "        \n",
    "        Parameters\n",
    "        ----------\n",
    "        p_m: array-like, shape (n_features, )\n",
    "        \n",
    "            The mean of prior, where n_features is the number of features.\n",
    "\n",
    "\n",
    "        p_v: {array-like, sparse matrix}, shape (n_features, n_features)\n",
    "        \n",
    "            The covariance of prior, where n_features is the number of features.\n",
    "        \n",
    "        \n",
    "        solver : str, {'newton', 'gd'}, optional (default='newton').\n",
    "        \n",
    "        Algorithm to use in the optimization problem.\n",
    "\n",
    "        - 'newton' implement Newton-Raphson method, fast converge but need more computation (Hessian matrix)\n",
    "\n",
    "        - 'gd' implement gradient descent method\n",
    "            \n",
    "            \n",
    "        eta: float, optional (default=1e-3)\n",
    "        \n",
    "            The learning rate\n",
    "\n",
    "\n",
    "        tol : float, optional (default=1e-5)\n",
    "        \n",
    "            Tolerance for stopping criteria.\n",
    "\n",
    "\n",
    "        max_iter: int, optional (default=100)\n",
    "        \n",
    "            Maximum number of iterations taken for the solvers to converge.\n",
    "\n",
    "            \n",
    "        Attributes\n",
    "        ----------\n",
    "\n",
    "        coef_ : array, shape (1, n_features)\n",
    "\n",
    "            Coefficient of the features in the decision function when using MAP estimate.\n",
    "            \n",
    "        losses_ : ndarray, optional\n",
    "    \n",
    "            Values of the objective function, saving for each iteration.\n",
    "\n",
    "        \"\"\"\n",
    "        self.p_m = p_m\n",
    "        self.p_v = p_v\n",
    "        self.solver = solver\n",
    "        self.eta = eta\n",
    "        self.tol = tol\n",
    "        self.max_iter = max_iter\n",
    "        \n",
    "\n",
    "    def fit(self, X, t):\n",
    "        \n",
    "        \n",
    "        \"\"\"Fit the model according to the given training data.\n",
    "\n",
    "\n",
    "        Parameters\n",
    "        ----------\n",
    "        X : {array-like, sparse matrix}, shape (n_samples, n_features)\n",
    "\n",
    "            Training vector, where n_samples is the number of samples and\n",
    "\n",
    "            n_features is the number of features.\n",
    "\n",
    "\n",
    "        t : array-like, shape (n_samples,)\n",
    "\n",
    "            Target vector relative to X.\n",
    "\n",
    "\n",
    "\n",
    "        Returns\n",
    "        -------\n",
    "        \n",
    "        self : object\n",
    "\n",
    "\n",
    "        \"\"\"\n",
    "        \n",
    "        w_init = 1e-3*np.ones(X.shape[1])\n",
    "\n",
    "        if (self.solver == 'gd'):\n",
    "            self.coef_, self.losses_ = GradientDescent(X, t, w_init, self.p_m, self.p_v, self.eta, self.tol, self.max_iter)\n",
    "        else:\n",
    "            self.coef_, self.losses_ = NewtonRaphson(X, t, w_init, self.p_m, self.p_v, self.eta, self.tol, self.max_iter)\n",
    "    \n",
    "        return self\n",
    "    \n",
    "    \n",
    "    def predict(self, X):\n",
    "            \n",
    "        \"\"\"predict using the logistic model\n",
    "        \n",
    "\n",
    "        Parameters\n",
    "        ----------\n",
    "        X : array-like, shape = [n_samples, n_features]\n",
    "\n",
    "\n",
    "        Returns\n",
    "        -------\n",
    "\n",
    "        T : array-like, shape = [n_samples,]\n",
    "\n",
    "            Returns the class of the sample.\n",
    "\n",
    "        \"\"\"\n",
    "        \n",
    "        pred = []\n",
    "        \n",
    "        for p in 1/(1+np.exp(-X.dot(self.coef_))):\n",
    "            if p <= 0.5:\n",
    "                pred.append(0)\n",
    "            else:\n",
    "                pred.append(1)\n",
    "        \n",
    "        return np.array(pred)"
   ]
  },
  {
   "cell_type": "markdown",
   "metadata": {},
   "source": [
    "Apply Bayesian logistic regression on the training data (before re-sampling)"
   ]
  },
  {
   "cell_type": "code",
   "execution_count": 23,
   "metadata": {},
   "outputs": [],
   "source": [
    "# prior distribution setting\n",
    "prior_variance = 1e2*np.eye(len(attrName))\n",
    "prior_mean = np.zeros(len(attrName))\n",
    "\n",
    "# apply Bayesian logistic regression on training data (Newton-Raphson method)\n",
    "model = BayesianLogistic(p_m=prior_mean, p_v=prior_variance, solver='newton', eta=5e-1, max_iter=100)\n",
    "model.fit(Xtrain_b, ytrain_b)\n",
    "pred = model.predict(Xval)"
   ]
  },
  {
   "cell_type": "code",
   "execution_count": 24,
   "metadata": {},
   "outputs": [
    {
     "data": {
      "image/png": "[encoded data removed]",
      "text/plain": [
       "<Figure size 720x360 with 2 Axes>"
      ]
     },
     "metadata": {},
     "output_type": "display_data"
    }
   ],
   "source": [
    "# Plot confusion matrix\n",
    "plot_confusion_matrix(yval, pred)\n",
    "plt.show()"
   ]
  },
  {
   "cell_type": "code",
   "execution_count": 25,
   "metadata": {},
   "outputs": [
    {
     "name": "stdout",
     "output_type": "stream",
     "text": [
      "F1 score on the validation set is 0.6686627477577949\n"
     ]
    }
   ],
   "source": [
    "print('F1 score on the validation set is', f1_score(pred, yval, average='macro'))"
   ]
  },
  {
   "cell_type": "markdown",
   "metadata": {},
   "source": [
    "Apply Bayesian logistic regression on the training data (using gradient descent method)"
   ]
  },
  {
   "cell_type": "code",
   "execution_count": 26,
   "metadata": {},
   "outputs": [],
   "source": [
    "# prior distribution setting\n",
    "prior_variance = 1e2*np.eye(len(attrName))\n",
    "prior_mean = np.zeros(len(attrName))\n",
    "\n",
    "# apply Bayesian logistic regression on training data (Newton-Raphson method)\n",
    "model = BayesianLogistic(p_m=prior_mean, p_v=prior_variance, solver='gd', eta=2e-7, max_iter=100)\n",
    "model.fit(Xtrain, ytrain)\n",
    "pred = model.predict(Xval)"
   ]
  },
  {
   "cell_type": "markdown",
   "metadata": {},
   "source": [
    "Plot the path the gradient takes from its initial to its final position"
   ]
  },
  {
   "cell_type": "code",
   "execution_count": 27,
   "metadata": {},
   "outputs": [
    {
     "data": {
      "image/png": "[encoded data removed]",
      "text/plain": [
       "<Figure size 720x360 with 1 Axes>"
      ]
     },
     "metadata": {},
     "output_type": "display_data"
    }
   ],
   "source": [
    "plt.figure(figsize=(10,5))\n",
    "plt.plot(range(len(model.losses_)), np.array(model.losses_))\n",
    "plt.xlabel(\"Iterations\", weight=\"semibold\", color='b', size=15)\n",
    "plt.ylabel(\"Log join likelihood\", weight=\"semibold\", color='b', size=15)\n",
    "plt.title(\"Gradient Descent Optimization\", weight=\"semibold\", color='r', size=15)\n",
    "plt.show()"
   ]
  },
  {
   "cell_type": "markdown",
   "metadata": {},
   "source": [
    "Apply Bayesian logistic regression on the training data (using Newton-Raphson method)"
   ]
  },
  {
   "cell_type": "code",
   "execution_count": 28,
   "metadata": {},
   "outputs": [],
   "source": [
    "# prior distribution setting\n",
    "prior_variance = 1e2*np.eye(len(attrName))\n",
    "prior_mean = np.zeros(len(attrName))\n",
    "\n",
    "# apply Bayesian logistic regression on training data (Newton-Raphson method)\n",
    "model = BayesianLogistic(p_m=prior_mean, p_v=prior_variance, solver='newton', eta=5e-1, max_iter=100)\n",
    "model.fit(Xtrain, ytrain)\n",
    "pred = model.predict(Xval)"
   ]
  },
  {
   "cell_type": "markdown",
   "metadata": {},
   "source": [
    "Plot the path the gradient takes from its initial to its final position"
   ]
  },
  {
   "cell_type": "code",
   "execution_count": 29,
   "metadata": {},
   "outputs": [
    {
     "data": {
      "image/png": "[encoded data removed]",
      "text/plain": [
       "<Figure size 720x360 with 1 Axes>"
      ]
     },
     "metadata": {},
     "output_type": "display_data"
    }
   ],
   "source": [
    "plt.figure(figsize=(10,5))\n",
    "plt.plot(range(len(model.losses_)), np.array(model.losses_))\n",
    "plt.xlabel(\"Iterations\", weight=\"semibold\", color='b', size=15)\n",
    "plt.ylabel(\"Log join likelihood\", weight=\"semibold\", color='b', size=15)\n",
    "plt.xticks(range(len(model.losses_)))\n",
    "plt.title(\"Newton Raphson Optimization\", weight=\"semibold\", color='r', size=15)\n",
    "plt.show()"
   ]
  },
  {
   "cell_type": "markdown",
   "metadata": {},
   "source": [
    "As we can see from the two above figures, using Newton Raphson method is much faster than Gradient Descent method. However, the drawback of Newton Raphson technique is its high computation cost to compute Hessian matrix while Gradient Descent takes lots of time to converge."
   ]
  },
  {
   "cell_type": "code",
   "execution_count": 30,
   "metadata": {},
   "outputs": [
    {
     "data": {
      "image/png": "[encoded data removed]",
      "text/plain": [
       "<Figure size 720x360 with 2 Axes>"
      ]
     },
     "metadata": {},
     "output_type": "display_data"
    }
   ],
   "source": [
    "# Plot confusion matrix\n",
    "plot_confusion_matrix(yval, pred)\n",
    "plt.show()"
   ]
  },
  {
   "cell_type": "code",
   "execution_count": 31,
   "metadata": {},
   "outputs": [
    {
     "name": "stdout",
     "output_type": "stream",
     "text": [
      "F1 score on the validation set is 0.6470260334616273\n"
     ]
    }
   ],
   "source": [
    "print('F1 score on the validation set is', f1_score(pred, yval, average='macro'))"
   ]
  },
  {
   "cell_type": "markdown",
   "metadata": {},
   "source": [
    "The F1 score on the re-sampling dataset is 0.646 while on the original dataset is 0.669. Although the performance is reduced a bit however, we can see the predictive ability of minor class '1' is significantly improved. Hence, it illustrates that the up sampling method help to reduce the imbalance problem. It also shows that the performance of Logistic regression is better than Linear regression."
   ]
  },
  {
   "cell_type": "markdown",
   "metadata": {},
   "source": [
    "<div class=\"alert alert-info\">\n",
    "e. Laplace approximation is an efficient way to obtain an approximate posterior for logistic regression. Describe the steps of this approach. What is the form of approximation obtained?</div> "
   ]
  },
  {
   "cell_type": "markdown",
   "metadata": {},
   "source": [
    "Exact Bayesian inference for logistic regression is intractable since the posterior distribution is no longer Gaussian. Moreover, it requires normalization of the product of a prior distribution and a likelihood function that itself comprises a product of logistic sigmoid functions, one for every data point. Laplace approximation is an efficient way to obtain an approximate posterior (Gaussian form) for logistic regression. And the approximate Gaussian distribution if obtained by:\n",
    "\n",
    "First, finding the mode of the posterior distribution ($w_{MAP}$ (solve above optimization problem (1)) and then fitting a Gaussian center at that mode.\n",
    "\n",
    "The covariance is then given by the inverse of the matrix of the second derivatives of the negative log likelihood (equivalent to finding the Hessian matrix), which takes the form\n",
    "        \\begin{equation*}\n",
    "        S_N^{-1} =  - \\bigtriangledown \\bigtriangledown log p(w \\mid X, y) = S_0^{-1} + \\sum_{i=1}^{n} p_i*(1 - p_i)*x_n*x_n^T\n",
    "        \\end{equation*}\n",
    "    \n",
    "The Gaussian approximation to the posterior distribution therefore takes the form:\n",
    "        \\begin{equation*}\n",
    "        q(w) \\sim N(w \\mid w_{MAP}, S_N)\n",
    "        \\end{equation*}"
   ]
  },
  {
   "cell_type": "markdown",
   "metadata": {},
   "source": [
    "<div class=\"alert alert-info\">\n",
    "Bonus question: Implement Laplace approximation</div> "
   ]
  },
  {
   "cell_type": "code",
   "execution_count": 32,
   "metadata": {},
   "outputs": [],
   "source": [
    "class BayesianLogistic_LaplaceApproximation(BayesianLogistic):\n",
    "    \n",
    "    \n",
    "    \"\"\"Bayesian Logistic Regression classifier.\n",
    "\n",
    "    This class inherit BayesianLogistic class. Futhermore, it is extend by  \n",
    "    \n",
    "    apply Laplace approximation to find a Gaussian approximation to a posterior distribution\"\"\"\n",
    "\n",
    "    def LaplaceApproximation(self, X, t):\n",
    "\n",
    "        \"\"\"predict using the logistic model\n",
    "        \n",
    "\n",
    "        Parameters\n",
    "        ----------\n",
    "        X : {array-like, sparse matrix}, shape (n_samples, n_features)\n",
    "\n",
    "            Training vector, where n_samples is the number of samples and\n",
    "\n",
    "            n_features is the number of features.\n",
    "\n",
    "\n",
    "        t : array-like, shape (n_samples,)\n",
    "\n",
    "            Target vector relative to X.\n",
    "            \n",
    "\n",
    "        Returns\n",
    "        -------\n",
    "\n",
    "        self : object\n",
    "\n",
    "        \"\"\"\n",
    "            \n",
    "        w_init = 1e-3*np.ones(X.shape[1])\n",
    "        self.pos_m, _ = NewtonRaphson(X, t, w_init, self.p_m, self.p_v, self.eta, self.tol, self.max_iter)\n",
    "        self.pos_v = inv(-logJoinLikelihood_hess(X, t, self.pos_m, self.p_m, self.p_v))\n",
    "\n",
    "        return self"
   ]
  },
  {
   "cell_type": "code",
   "execution_count": 33,
   "metadata": {},
   "outputs": [],
   "source": [
    "# prior distribution setting\n",
    "prior_variance = 1e2*np.eye(len(attrName))\n",
    "prior_mean = np.zeros(len(attrName))\n",
    "\n",
    "# apply Bayesian logistic regression on training data\n",
    "model = BayesianLogistic_LaplaceApproximation(p_m=prior_mean, p_v=prior_variance, eta=1e-2, max_iter=10)\n",
    "model = model.LaplaceApproximation(Xtrain, ytrain)"
   ]
  },
  {
   "cell_type": "code",
   "execution_count": 34,
   "metadata": {},
   "outputs": [
    {
     "data": {
      "text/plain": [
       "array([ 6.07302263e-03,  4.34637083e-03,  6.74474621e-03,  2.36019222e-03,\n",
       "        2.99246771e-03,  2.16773204e-03,  2.76397199e-02,  5.10573190e-04,\n",
       "        2.58961997e-03, -9.03759177e-03,  1.05907363e-03,  2.00693219e-03,\n",
       "       -9.63604562e-02, -2.55063057e-03,  4.45056311e-04,  1.31742223e-02,\n",
       "        6.29721678e-04,  8.55591675e-04,  2.47055381e-03,  1.28043798e-03,\n",
       "       -1.20670024e-04, -1.39873882e-03,  7.11850299e-03, -1.08186070e-02,\n",
       "        3.33357144e-03,  2.26748502e-02,  3.61464564e-03,  1.98785888e-04,\n",
       "       -7.06463872e-03,  1.08350513e-03,  6.71321064e-04, -3.52874196e-03,\n",
       "        4.84481109e-03, -2.13198682e-03, -2.75981907e-02,  2.89102071e-03,\n",
       "       -3.78608908e-03,  2.10692888e-03,  8.49476268e-04,  5.12569828e-04,\n",
       "        2.75533024e-03,  4.17819273e-04, -2.85225443e-03, -1.55712753e-02,\n",
       "       -1.57817672e-03,  5.46840310e-04,  1.05305860e-03,  1.03105574e-03,\n",
       "        1.58282616e-03,  1.89055920e-03, -5.49026712e-03,  1.80805412e-03,\n",
       "        2.40203586e-03,  2.59941114e-02,  1.07315904e-04,  1.72989060e-03,\n",
       "       -1.97008311e-03, -2.59500258e-03, -7.03515016e-04, -3.96038705e-03,\n",
       "        1.82118434e-03,  1.23056622e-03,  3.61048060e-03, -3.97826557e-05,\n",
       "       -1.78882380e-03,  1.83555614e-03,  5.73730237e-03,  2.50172130e-03,\n",
       "        5.93317642e-01,  1.34072874e-03,  1.42730712e-03,  3.76328394e-02,\n",
       "       -6.49141992e-04,  6.35053770e-04,  1.17680673e-03, -1.13661144e-03,\n",
       "       -1.31150649e-03, -6.88089949e-04,  7.71828292e-03,  2.68428502e-03,\n",
       "       -1.09464397e-03, -9.58920333e-03,  1.65909911e-03,  9.52249607e-05,\n",
       "        1.61627675e-03, -1.06696098e-03, -7.10955081e-04, -1.14666043e-03,\n",
       "       -7.66611609e-04,  3.59428867e-03,  1.45874546e-03,  7.31302177e-02,\n",
       "       -2.11006218e-03, -1.70788325e-02,  5.90557112e-03,  1.99811192e-02,\n",
       "        8.38240838e-04,  1.15423904e-03, -5.72360665e-04,  1.03311688e-02,\n",
       "        1.01361961e-03,  3.89215447e-04,  1.93470720e-04, -4.42483937e-03,\n",
       "       -4.29636117e-03,  9.76980969e-03,  5.79575809e-03, -9.07333931e-04,\n",
       "       -6.94059230e-02, -2.37098220e-03,  5.47451807e-03,  9.19978100e-03,\n",
       "        5.58420262e-03,  4.41917825e-05, -8.05869524e-03, -4.79102962e-03,\n",
       "       -3.94339131e-03,  9.58747648e-04,  2.31693557e-03,  2.58852389e-03,\n",
       "        5.50578812e-04, -5.97306743e-03, -1.79582674e-03, -8.56757485e-04,\n",
       "        1.99598361e-03,  2.10580913e-02,  4.15001491e-03, -2.74372575e-03,\n",
       "        3.24677680e-03, -3.62240795e-04,  1.44115209e-02, -1.97874523e-02,\n",
       "       -5.48333822e-03,  4.75435617e-02,  1.88396519e-03,  1.78705090e-03,\n",
       "        7.84805399e-04,  1.77886460e-03,  2.14728907e-03, -1.98435104e-03,\n",
       "        1.98709337e-03, -5.74513804e-04, -1.82601178e-04, -7.02128215e-04,\n",
       "        7.92997600e-03,  2.69402267e-03, -6.86542840e-03,  2.45823931e-03,\n",
       "       -6.50683279e-02, -5.10020207e-04, -3.15393850e-03,  2.79955660e-03,\n",
       "       -3.69838704e-04, -9.60712669e-05, -1.70295743e-03,  2.57723258e-03,\n",
       "       -6.56272380e-03,  2.63867796e-03,  9.20045033e-04,  1.94710560e-03,\n",
       "        5.84595128e-04,  4.31047976e-03,  6.40863493e-03,  3.33472944e-03,\n",
       "        2.85450760e-03, -2.58129683e-03, -5.15878209e-02,  2.00152318e-03,\n",
       "        1.55683585e-03, -4.22721196e-02,  4.30167916e-03,  2.01949158e-03,\n",
       "       -3.85278417e-04,  3.15961299e-03, -1.66845808e-03,  3.37339275e-03,\n",
       "        1.10626210e-03, -3.73817087e-03,  4.63679558e-05,  5.73105539e-03,\n",
       "        2.55895465e-03,  4.13024967e-03,  6.79429552e-04,  4.74618976e-04,\n",
       "        2.37338511e-03,  9.48945485e-04, -1.39927711e-03,  1.08174518e-03,\n",
       "       -1.91597993e-03,  1.63471337e-03,  4.80004530e-03,  5.53327202e-03,\n",
       "       -8.57409609e-03, -6.52531917e-04, -1.39986726e-03,  4.91123536e-03,\n",
       "        2.18956365e-03, -1.20312235e-02, -4.40446567e-03,  1.62848409e-03])"
      ]
     },
     "execution_count": 34,
     "metadata": {},
     "output_type": "execute_result"
    }
   ],
   "source": [
    "# mean of Laplace approximation distribution\n",
    "model.pos_m"
   ]
  },
  {
   "cell_type": "code",
   "execution_count": 35,
   "metadata": {},
   "outputs": [
    {
     "data": {
      "text/plain": [
       "array([[-3.75123787e-06,  2.06951650e-08,  2.27161134e-08, ...,\n",
       "        -1.20498289e-07,  3.63274366e-09,  8.65567470e-09],\n",
       "       [ 2.06951650e-08, -2.13838429e-06,  3.01637692e-08, ...,\n",
       "        -9.19142254e-08, -5.32609507e-08,  5.39000986e-09],\n",
       "       [ 2.27161134e-08,  3.01637692e-08, -4.95640143e-06, ...,\n",
       "        -4.53191191e-08, -4.70328394e-08,  5.05925450e-09],\n",
       "       ...,\n",
       "       [-1.20498289e-07, -9.19142254e-08, -4.53191191e-08, ...,\n",
       "        -4.27190803e-05,  4.75756247e-08,  3.89842463e-08],\n",
       "       [ 3.63274366e-09, -5.32609507e-08, -4.70328394e-08, ...,\n",
       "         4.75756247e-08, -3.81318853e-06, -4.57712938e-09],\n",
       "       [ 8.65567470e-09,  5.39000986e-09,  5.05925450e-09, ...,\n",
       "         3.89842463e-08, -4.57712938e-09, -3.20361860e-07]])"
      ]
     },
     "execution_count": 35,
     "metadata": {},
     "output_type": "execute_result"
    }
   ],
   "source": [
    "# variance of Laplace approximation distribution\n",
    "model.pos_v"
   ]
  },
  {
   "cell_type": "markdown",
   "metadata": {},
   "source": [
    "#### COMMENT:\n",
    "\n",
    "The output of Laplace approximation is a Gaussian distribution approximate the posterior distribution of given problem $ q(w) \\sim N(w \\mid w_{MAP}, S_N)$, where:\n",
    "$w_{MAP}$ is the maximum posterior (pos_m) and $S_N^{-1}$ is Hessian matrix of posterior at $w = w_{MAP}$ (pos_v)"
   ]
  },
  {
   "cell_type": "code",
   "execution_count": null,
   "metadata": {},
   "outputs": [],
   "source": []
  }
 ],
 "metadata": {
  "kernelspec": {
   "display_name": "Python 3",
   "language": "python",
   "name": "python3"
  },
  "language_info": {
   "codemirror_mode": {
    "name": "ipython",
    "version": 3
   },
   "file_extension": ".py",
   "mimetype": "text/x-python",
   "name": "python",
   "nbconvert_exporter": "python",
   "pygments_lexer": "ipython3",
   "version": "3.7.0"
  }
 },
 "nbformat": 4,
 "nbformat_minor": 2
}
